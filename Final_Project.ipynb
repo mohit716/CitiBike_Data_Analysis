{
  "nbformat": 4,
  "nbformat_minor": 0,
  "metadata": {
    "colab": {
      "provenance": []
    },
    "kernelspec": {
      "name": "python3",
      "display_name": "Python 3"
    },
    "language_info": {
      "name": "python"
    }
  },
  "cells": [
    {
      "cell_type": "code",
      "execution_count": 11,
      "metadata": {
        "id": "PPcI54lUHKSS"
      },
      "outputs": [],
      "source": [
        "# Step 1 : Loading data"
      ]
    },
    {
      "cell_type": "code",
      "source": [
        "# Example: download April 2024 NYC data\n",
        "!wget https://s3.amazonaws.com/tripdata/202404-citibike-tripdata.zip\n",
        "!unzip 202404-citibike-tripdata.zip\n"
      ],
      "metadata": {
        "id": "-UdZqMIyH8HQ",
        "colab": {
          "base_uri": "https://localhost:8080/"
        },
        "outputId": "f75fedb0-8c38-4c0f-8cf1-1852679e29ca"
      },
      "execution_count": 12,
      "outputs": [
        {
          "output_type": "stream",
          "name": "stdout",
          "text": [
            "--2025-09-02 08:15:54--  https://s3.amazonaws.com/tripdata/202404-citibike-tripdata.zip\n",
            "Resolving s3.amazonaws.com (s3.amazonaws.com)... 16.15.218.238, 16.182.107.64, 52.217.172.144, ...\n",
            "Connecting to s3.amazonaws.com (s3.amazonaws.com)|16.15.218.238|:443... connected.\n",
            "HTTP request sent, awaiting response... 200 OK\n",
            "Length: 629567797 (600M) [application/zip]\n",
            "Saving to: ‘202404-citibike-tripdata.zip.1’\n",
            "\n",
            "202404-citibike-tri 100%[===================>] 600.40M  85.7MB/s    in 8.4s    \n",
            "\n",
            "2025-09-02 08:16:03 (71.8 MB/s) - ‘202404-citibike-tripdata.zip.1’ saved [629567797/629567797]\n",
            "\n",
            "Archive:  202404-citibike-tripdata.zip\n",
            "replace 202404-citibike-tripdata_4.csv? [y]es, [n]o, [A]ll, [N]one, [r]ename: no\n",
            "replace 202404-citibike-tripdata_1.csv? [y]es, [n]o, [A]ll, [N]one, [r]ename: no\n",
            "replace 202404-citibike-tripdata_2.csv? [y]es, [n]o, [A]ll, [N]one, [r]ename: no\n",
            "replace 202404-citibike-tripdata_3.csv? [y]es, [n]o, [A]ll, [N]one, [r]ename: no\n"
          ]
        }
      ]
    },
    {
      "cell_type": "code",
      "source": [
        "import pandas as pd\n",
        "\n",
        "# List the 4 split CSVs\n",
        "files = [\n",
        "    \"202404-citibike-tripdata_1.csv\",\n",
        "    \"202404-citibike-tripdata_2.csv\",\n",
        "    \"202404-citibike-tripdata_3.csv\",\n",
        "    \"202404-citibike-tripdata_4.csv\"\n",
        "]\n",
        "\n",
        "# Show schema for each file\n",
        "for f in files:\n",
        "    print(f\"\\n===== Schema for {f} =====\")\n",
        "    sample = pd.read_csv(f, nrows=5)   # only load first 5 rows for speed\n",
        "    print(sample.dtypes)               # data types\n",
        "    print(sample.head())               # preview first 5 rows\n",
        "\n"
      ],
      "metadata": {
        "colab": {
          "base_uri": "https://localhost:8080/"
        },
        "id": "KR1lR0qXSb3E",
        "outputId": "7c504ad8-6f84-4403-a9d9-1aecb1e9f68d"
      },
      "execution_count": 13,
      "outputs": [
        {
          "output_type": "stream",
          "name": "stdout",
          "text": [
            "\n",
            "===== Schema for 202404-citibike-tripdata_1.csv =====\n",
            "ride_id                object\n",
            "rideable_type          object\n",
            "started_at             object\n",
            "ended_at               object\n",
            "start_station_name     object\n",
            "start_station_id      float64\n",
            "end_station_name       object\n",
            "end_station_id        float64\n",
            "start_lat             float64\n",
            "start_lng             float64\n",
            "end_lat               float64\n",
            "end_lng               float64\n",
            "member_casual          object\n",
            "dtype: object\n",
            "            ride_id  rideable_type               started_at  \\\n",
            "0  5ADFD3F27C884D2C   classic_bike  2024-04-13 14:21:51.604   \n",
            "1  A4393C563327BAC9   classic_bike  2024-04-10 15:02:12.980   \n",
            "2  16F80ACD62EC6D4D  electric_bike  2024-04-11 15:57:35.909   \n",
            "3  0A04E37F00195A3F   classic_bike  2024-04-05 08:52:53.483   \n",
            "4  233B813D26AB2921  electric_bike  2024-04-09 14:58:56.616   \n",
            "\n",
            "                  ended_at           start_station_name  start_station_id  \\\n",
            "0  2024-04-13 14:32:20.304            Dean St & Hoyt St           4446.05   \n",
            "1  2024-04-10 15:12:10.595    Washington St & Barrow St           5847.08   \n",
            "2  2024-04-11 16:05:22.773              1 Ave & E 18 St           5854.09   \n",
            "3  2024-04-05 08:57:13.155      W 181 St & Riverside Dr           8381.04   \n",
            "4  2024-04-09 15:11:46.324  Central Park West & W 72 St           7141.07   \n",
            "\n",
            "                 end_station_name  end_station_id  start_lat  start_lng  \\\n",
            "0              Pearl St & York St         4895.15  40.686444 -73.987591   \n",
            "1                10 Ave & W 14 St         6157.04  40.731911 -74.008769   \n",
            "2              Broadway & W 25 St         6173.08  40.733812 -73.980544   \n",
            "3  Fort Washington Ave & W 173 St         8320.01  40.851680 -73.941860   \n",
            "4              Broadway & W 25 St         6173.08  40.775794 -73.976206   \n",
            "\n",
            "     end_lat    end_lng member_casual  \n",
            "0  40.701405 -73.987680        casual  \n",
            "1  40.741982 -74.008316        casual  \n",
            "2  40.742869 -73.989186        member  \n",
            "3  40.845220 -73.940493        member  \n",
            "4  40.742869 -73.989186        member  \n",
            "\n",
            "===== Schema for 202404-citibike-tripdata_2.csv =====\n",
            "ride_id                object\n",
            "rideable_type          object\n",
            "started_at             object\n",
            "ended_at               object\n",
            "start_station_name     object\n",
            "start_station_id      float64\n",
            "end_station_name       object\n",
            "end_station_id        float64\n",
            "start_lat             float64\n",
            "start_lng             float64\n",
            "end_lat               float64\n",
            "end_lng               float64\n",
            "member_casual          object\n",
            "dtype: object\n",
            "            ride_id  rideable_type               started_at  \\\n",
            "0  17BC8E297721F63A   classic_bike  2024-04-13 15:30:01.223   \n",
            "1  1DE96113FEBA4B93  electric_bike  2024-04-11 18:07:12.199   \n",
            "2  27DE4D1FFDDA4568  electric_bike  2024-04-14 17:29:02.113   \n",
            "3  545B7672C58E8D76  electric_bike  2024-04-10 18:16:02.606   \n",
            "4  EE10C82266E4D817  electric_bike  2024-04-13 09:05:13.622   \n",
            "\n",
            "                  ended_at      start_station_name  start_station_id  \\\n",
            "0  2024-04-13 15:31:21.317      Broadway & W 38 St           6560.15   \n",
            "1  2024-04-11 18:53:22.339      Broadway & W 38 St           6560.15   \n",
            "2  2024-04-14 17:37:14.659        10 Ave & W 14 St           6157.04   \n",
            "3  2024-04-10 18:25:57.737      Broadway & W 25 St           6173.08   \n",
            "4  2024-04-13 09:21:55.603  Concord St & Bridge St           4781.03   \n",
            "\n",
            "          end_station_name  end_station_id  start_lat  start_lng    end_lat  \\\n",
            "0       Broadway & W 37 St         6441.02  40.752973 -73.987349  40.751726   \n",
            "1     Lenox Ave & W 133 St         7790.04  40.752973 -73.987349  40.812960   \n",
            "2         W 47 St & 10 Ave         6824.07  40.741982 -74.008316  40.762699   \n",
            "3          E 13 St & Ave A         5779.09  40.742869 -73.989186  40.729667   \n",
            "4  Milton St & Franklin St         5752.07  40.697666 -73.984764  40.729060   \n",
            "\n",
            "     end_lng member_casual  \n",
            "0 -73.987535        member  \n",
            "1 -73.941878        member  \n",
            "2 -73.993012        member  \n",
            "3 -73.980680        member  \n",
            "4 -73.957790        casual  \n",
            "\n",
            "===== Schema for 202404-citibike-tripdata_3.csv =====\n",
            "ride_id                object\n",
            "rideable_type          object\n",
            "started_at             object\n",
            "ended_at               object\n",
            "start_station_name     object\n",
            "start_station_id      float64\n",
            "end_station_name       object\n",
            "end_station_id        float64\n",
            "start_lat             float64\n",
            "start_lng             float64\n",
            "end_lat               float64\n",
            "end_lng               float64\n",
            "member_casual          object\n",
            "dtype: object\n",
            "            ride_id  rideable_type               started_at  \\\n",
            "0  7B17CF7BEAF14FDB  electric_bike  2024-04-18 15:51:54.397   \n",
            "1  0BE949E4F9077C7B  electric_bike  2024-04-15 07:53:43.897   \n",
            "2  ACE0BCDF0AE15D39   classic_bike  2024-04-17 20:04:33.560   \n",
            "3  8EF05FFB97612DC4  electric_bike  2024-04-30 08:33:01.695   \n",
            "4  A01C2324FD1D36D7  electric_bike  2024-04-25 08:49:20.070   \n",
            "\n",
            "                  ended_at                   start_station_name  \\\n",
            "0  2024-04-18 15:52:56.403  Adam Clayton Powell Blvd & W 151 St   \n",
            "1  2024-04-15 08:00:57.904                       E 7 St & Ave A   \n",
            "2  2024-04-17 20:13:33.083           Bergen St & Vanderbilt Ave   \n",
            "3  2024-04-30 08:39:31.850                 Peck Slip & South St   \n",
            "4  2024-04-25 08:57:34.647                 Peck Slip & South St   \n",
            "\n",
            "   start_station_id        end_station_name  end_station_id  start_lat  \\\n",
            "0           8009.05   Macombs Pl & W 152 St         8029.28  40.825289   \n",
            "1           5626.07    E 27 St & Park Ave S         6131.13  40.726218   \n",
            "2           4157.10  Union St & Bedford Ave         3879.04  40.679439   \n",
            "3           5096.12   Orchard St & Grand St         5343.11  40.707519   \n",
            "4           5096.12   Orchard St & Grand St         5343.11  40.707519   \n",
            "\n",
            "   start_lng    end_lat    end_lng member_casual  \n",
            "0 -73.936232  40.826406 -73.937948        member  \n",
            "1 -73.983799  40.742752 -73.984716        member  \n",
            "2 -73.968044  40.669178 -73.955416        member  \n",
            "3 -74.001081  40.717318 -73.990678        member  \n",
            "4 -74.001081  40.717318 -73.990678        member  \n",
            "\n",
            "===== Schema for 202404-citibike-tripdata_4.csv =====\n",
            "ride_id                object\n",
            "rideable_type          object\n",
            "started_at             object\n",
            "ended_at               object\n",
            "start_station_name     object\n",
            "start_station_id      float64\n",
            "end_station_name       object\n",
            "end_station_id        float64\n",
            "start_lat             float64\n",
            "start_lng             float64\n",
            "end_lat               float64\n",
            "end_lng               float64\n",
            "member_casual          object\n",
            "dtype: object\n",
            "            ride_id  rideable_type               started_at  \\\n",
            "0  F24449BFDFD15DB5   classic_bike  2024-04-30 08:48:11.972   \n",
            "1  35D2AC7AA1DFE5CD   classic_bike  2024-04-30 15:35:08.248   \n",
            "2  C99408B3FBD4A2AA  electric_bike  2024-04-26 10:19:59.700   \n",
            "3  8F552B87A66F9804  electric_bike  2024-04-19 06:31:07.368   \n",
            "4  E1705B867E153080  electric_bike  2024-04-17 06:27:11.453   \n",
            "\n",
            "                  ended_at        start_station_name  start_station_id  \\\n",
            "0  2024-04-30 08:49:41.707          W 50 St & 10 Ave           6890.06   \n",
            "1  2024-04-30 15:42:08.694             6 Ave & 12 St           3803.05   \n",
            "2  2024-04-26 10:38:09.422             6 Ave & 12 St           3803.05   \n",
            "3  2024-04-19 06:35:23.300  India St & Manhattan Ave           5826.02   \n",
            "4  2024-04-17 06:31:32.890  India St & Manhattan Ave           5826.02   \n",
            "\n",
            "     end_station_name  end_station_id  start_lat  start_lng    end_lat  \\\n",
            "0    W 53 St & 10 Ave         6890.01  40.764734 -73.991944  40.766697   \n",
            "1        3 St & 3 Ave         4028.03  40.666318 -73.985462  40.675070   \n",
            "2        3 St & 3 Ave         4028.03  40.666318 -73.985462  40.675070   \n",
            "3  N 9 St & Wythe Ave         5489.06  40.732322 -73.955086  40.720540   \n",
            "4  N 9 St & Wythe Ave         5489.06  40.732322 -73.955086  40.720540   \n",
            "\n",
            "     end_lng member_casual  \n",
            "0 -73.990617        member  \n",
            "1 -73.987752        member  \n",
            "2 -73.987752        member  \n",
            "3 -73.959000        member  \n",
            "4 -73.959000        member  \n"
          ]
        }
      ]
    },
    {
      "cell_type": "code",
      "source": [
        "# Go to content root\n",
        "%cd /content\n",
        "\n",
        "\n",
        "\n"
      ],
      "metadata": {
        "colab": {
          "base_uri": "https://localhost:8080/"
        },
        "id": "1aS5TsfYWa4d",
        "outputId": "24e8ae64-b98f-4638-dc0a-fa90c009f6f9"
      },
      "execution_count": 15,
      "outputs": [
        {
          "output_type": "stream",
          "name": "stdout",
          "text": [
            "/content\n"
          ]
        }
      ]
    },
    {
      "cell_type": "code",
      "source": [
        "import shutil\n",
        "shutil.copy(\"/content/CS-660_Data_Science_At_Scale_Final_Project.ipynb\",\n",
        "            \"/content/Final_Project.ipynb\")\n"
      ],
      "metadata": {
        "colab": {
          "base_uri": "https://localhost:8080/",
          "height": 321
        },
        "id": "163As2KSW0e-",
        "outputId": "d3447bcc-9082-480d-b066-1a8c15efe633"
      },
      "execution_count": 18,
      "outputs": [
        {
          "output_type": "error",
          "ename": "FileNotFoundError",
          "evalue": "[Errno 2] No such file or directory: '/content/CS-660_Data_Science_At_Scale_Final_Project.ipynb'",
          "traceback": [
            "\u001b[0;31m---------------------------------------------------------------------------\u001b[0m",
            "\u001b[0;31mFileNotFoundError\u001b[0m                         Traceback (most recent call last)",
            "\u001b[0;32m/tmp/ipython-input-4013348500.py\u001b[0m in \u001b[0;36m<cell line: 0>\u001b[0;34m()\u001b[0m\n\u001b[1;32m      1\u001b[0m \u001b[0;32mimport\u001b[0m \u001b[0mshutil\u001b[0m\u001b[0;34m\u001b[0m\u001b[0;34m\u001b[0m\u001b[0m\n\u001b[0;32m----> 2\u001b[0;31m shutil.copy(\"/content/CS-660_Data_Science_At_Scale_Final_Project.ipynb\",\n\u001b[0m\u001b[1;32m      3\u001b[0m             \"/content/Final_Project.ipynb\")\n",
            "\u001b[0;32m/usr/lib/python3.12/shutil.py\u001b[0m in \u001b[0;36mcopy\u001b[0;34m(src, dst, follow_symlinks)\u001b[0m\n\u001b[1;32m    433\u001b[0m     \u001b[0;32mif\u001b[0m \u001b[0mos\u001b[0m\u001b[0;34m.\u001b[0m\u001b[0mpath\u001b[0m\u001b[0;34m.\u001b[0m\u001b[0misdir\u001b[0m\u001b[0;34m(\u001b[0m\u001b[0mdst\u001b[0m\u001b[0;34m)\u001b[0m\u001b[0;34m:\u001b[0m\u001b[0;34m\u001b[0m\u001b[0;34m\u001b[0m\u001b[0m\n\u001b[1;32m    434\u001b[0m         \u001b[0mdst\u001b[0m \u001b[0;34m=\u001b[0m \u001b[0mos\u001b[0m\u001b[0;34m.\u001b[0m\u001b[0mpath\u001b[0m\u001b[0;34m.\u001b[0m\u001b[0mjoin\u001b[0m\u001b[0;34m(\u001b[0m\u001b[0mdst\u001b[0m\u001b[0;34m,\u001b[0m \u001b[0mos\u001b[0m\u001b[0;34m.\u001b[0m\u001b[0mpath\u001b[0m\u001b[0;34m.\u001b[0m\u001b[0mbasename\u001b[0m\u001b[0;34m(\u001b[0m\u001b[0msrc\u001b[0m\u001b[0;34m)\u001b[0m\u001b[0;34m)\u001b[0m\u001b[0;34m\u001b[0m\u001b[0;34m\u001b[0m\u001b[0m\n\u001b[0;32m--> 435\u001b[0;31m     \u001b[0mcopyfile\u001b[0m\u001b[0;34m(\u001b[0m\u001b[0msrc\u001b[0m\u001b[0;34m,\u001b[0m \u001b[0mdst\u001b[0m\u001b[0;34m,\u001b[0m \u001b[0mfollow_symlinks\u001b[0m\u001b[0;34m=\u001b[0m\u001b[0mfollow_symlinks\u001b[0m\u001b[0;34m)\u001b[0m\u001b[0;34m\u001b[0m\u001b[0;34m\u001b[0m\u001b[0m\n\u001b[0m\u001b[1;32m    436\u001b[0m     \u001b[0mcopymode\u001b[0m\u001b[0;34m(\u001b[0m\u001b[0msrc\u001b[0m\u001b[0;34m,\u001b[0m \u001b[0mdst\u001b[0m\u001b[0;34m,\u001b[0m \u001b[0mfollow_symlinks\u001b[0m\u001b[0;34m=\u001b[0m\u001b[0mfollow_symlinks\u001b[0m\u001b[0;34m)\u001b[0m\u001b[0;34m\u001b[0m\u001b[0;34m\u001b[0m\u001b[0m\n\u001b[1;32m    437\u001b[0m     \u001b[0;32mreturn\u001b[0m \u001b[0mdst\u001b[0m\u001b[0;34m\u001b[0m\u001b[0;34m\u001b[0m\u001b[0m\n",
            "\u001b[0;32m/usr/lib/python3.12/shutil.py\u001b[0m in \u001b[0;36mcopyfile\u001b[0;34m(src, dst, follow_symlinks)\u001b[0m\n\u001b[1;32m    258\u001b[0m         \u001b[0mos\u001b[0m\u001b[0;34m.\u001b[0m\u001b[0msymlink\u001b[0m\u001b[0;34m(\u001b[0m\u001b[0mos\u001b[0m\u001b[0;34m.\u001b[0m\u001b[0mreadlink\u001b[0m\u001b[0;34m(\u001b[0m\u001b[0msrc\u001b[0m\u001b[0;34m)\u001b[0m\u001b[0;34m,\u001b[0m \u001b[0mdst\u001b[0m\u001b[0;34m)\u001b[0m\u001b[0;34m\u001b[0m\u001b[0;34m\u001b[0m\u001b[0m\n\u001b[1;32m    259\u001b[0m     \u001b[0;32melse\u001b[0m\u001b[0;34m:\u001b[0m\u001b[0;34m\u001b[0m\u001b[0;34m\u001b[0m\u001b[0m\n\u001b[0;32m--> 260\u001b[0;31m         \u001b[0;32mwith\u001b[0m \u001b[0mopen\u001b[0m\u001b[0;34m(\u001b[0m\u001b[0msrc\u001b[0m\u001b[0;34m,\u001b[0m \u001b[0;34m'rb'\u001b[0m\u001b[0;34m)\u001b[0m \u001b[0;32mas\u001b[0m \u001b[0mfsrc\u001b[0m\u001b[0;34m:\u001b[0m\u001b[0;34m\u001b[0m\u001b[0;34m\u001b[0m\u001b[0m\n\u001b[0m\u001b[1;32m    261\u001b[0m             \u001b[0;32mtry\u001b[0m\u001b[0;34m:\u001b[0m\u001b[0;34m\u001b[0m\u001b[0;34m\u001b[0m\u001b[0m\n\u001b[1;32m    262\u001b[0m                 \u001b[0;32mwith\u001b[0m \u001b[0mopen\u001b[0m\u001b[0;34m(\u001b[0m\u001b[0mdst\u001b[0m\u001b[0;34m,\u001b[0m \u001b[0;34m'wb'\u001b[0m\u001b[0;34m)\u001b[0m \u001b[0;32mas\u001b[0m \u001b[0mfdst\u001b[0m\u001b[0;34m:\u001b[0m\u001b[0;34m\u001b[0m\u001b[0;34m\u001b[0m\u001b[0m\n",
            "\u001b[0;31mFileNotFoundError\u001b[0m: [Errno 2] No such file or directory: '/content/CS-660_Data_Science_At_Scale_Final_Project.ipynb'"
          ]
        }
      ]
    },
    {
      "cell_type": "code",
      "source": [],
      "metadata": {
        "id": "8IVBCp3rdFNv"
      },
      "execution_count": null,
      "outputs": []
    }
  ]
}